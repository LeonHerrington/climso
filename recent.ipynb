{
 "cells": [
  {
   "cell_type": "markdown",
   "metadata": {},
   "source": [
    "# Recent image"
   ]
  },
  {
   "cell_type": "code",
   "execution_count": 2,
   "metadata": {},
   "outputs": [
    {
     "name": "stdout",
     "output_type": "stream",
     "text": [
      "No files found in the most recent folder\n"
     ]
    },
    {
     "ename": "TypeError",
     "evalue": "filename must be a str, bytes, file or PathLike object",
     "output_type": "error",
     "traceback": [
      "\u001b[1;31m---------------------------------------------------------------------------\u001b[0m",
      "\u001b[1;31mTypeError\u001b[0m                                 Traceback (most recent call last)",
      "Cell \u001b[1;32mIn[2], line 8\u001b[0m\n\u001b[0;32m      4\u001b[0m directory \u001b[38;5;241m=\u001b[39m \u001b[38;5;124m'\u001b[39m\u001b[38;5;124mZ:/data/CLIMSO/2024/data_calibrated\u001b[39m\u001b[38;5;124m'\u001b[39m\n\u001b[0;32m      6\u001b[0m file \u001b[38;5;241m=\u001b[39m getMostRecent(directory, \u001b[38;5;124m'\u001b[39m\u001b[38;5;124m_l2_\u001b[39m\u001b[38;5;124m'\u001b[39m)\n\u001b[1;32m----> 8\u001b[0m \u001b[38;5;28mmap\u001b[39m \u001b[38;5;241m=\u001b[39m \u001b[43mtoSunpyMap\u001b[49m\u001b[43m(\u001b[49m\u001b[43mfile\u001b[49m\u001b[43m)\u001b[49m\n\u001b[0;32m     10\u001b[0m img \u001b[38;5;241m=\u001b[39m drawSunspots(\u001b[38;5;28mmap\u001b[39m)\n\u001b[0;32m     12\u001b[0m plt\u001b[38;5;241m.\u001b[39mfigure(figsize\u001b[38;5;241m=\u001b[39m(\u001b[38;5;241m20\u001b[39m,\u001b[38;5;241m20\u001b[39m))\n",
      "File \u001b[1;32mc:\\dev\\climso\\module.py:42\u001b[0m, in \u001b[0;36mtoSunpyMap\u001b[1;34m(filename)\u001b[0m\n\u001b[0;32m     40\u001b[0m \u001b[38;5;28;01mdef\u001b[39;00m \u001b[38;5;21mtoSunpyMap\u001b[39m(filename):\n\u001b[1;32m---> 42\u001b[0m     hdu \u001b[38;5;241m=\u001b[39m \u001b[43mreadFitsBz2\u001b[49m\u001b[43m(\u001b[49m\u001b[43mfilename\u001b[49m\u001b[43m)\u001b[49m\n\u001b[0;32m     44\u001b[0m     header \u001b[38;5;241m=\u001b[39m getHeader(hdu)\n\u001b[0;32m     46\u001b[0m     hdu\u001b[38;5;241m.\u001b[39mdata \u001b[38;5;241m=\u001b[39m centerDisk(hdu\u001b[38;5;241m.\u001b[39mdata)\n",
      "File \u001b[1;32mc:\\dev\\climso\\module.py:17\u001b[0m, in \u001b[0;36mreadFitsBz2\u001b[1;34m(path)\u001b[0m\n\u001b[0;32m     16\u001b[0m \u001b[38;5;28;01mdef\u001b[39;00m \u001b[38;5;21mreadFitsBz2\u001b[39m(path):\n\u001b[1;32m---> 17\u001b[0m     decompressed_file \u001b[38;5;241m=\u001b[39m \u001b[43mbz2\u001b[49m\u001b[38;5;241;43m.\u001b[39;49m\u001b[43mBZ2File\u001b[49m\u001b[43m(\u001b[49m\u001b[43mpath\u001b[49m\u001b[43m)\u001b[49m\n\u001b[0;32m     18\u001b[0m     hdul \u001b[38;5;241m=\u001b[39m fits\u001b[38;5;241m.\u001b[39mopen(decompressed_file)\n\u001b[0;32m     20\u001b[0m     primary_hdu \u001b[38;5;241m=\u001b[39m fits\u001b[38;5;241m.\u001b[39mPrimaryHDU(data\u001b[38;5;241m=\u001b[39mhdul[\u001b[38;5;241m0\u001b[39m]\u001b[38;5;241m.\u001b[39mdata, header\u001b[38;5;241m=\u001b[39mhdul[\u001b[38;5;241m0\u001b[39m]\u001b[38;5;241m.\u001b[39mheader) \n",
      "File \u001b[1;32mc:\\Users\\lherrington\\anaconda3\\envs\\climso\\Lib\\bz2.py:88\u001b[0m, in \u001b[0;36mBZ2File.__init__\u001b[1;34m(self, filename, mode, compresslevel)\u001b[0m\n\u001b[0;32m     86\u001b[0m     \u001b[38;5;28mself\u001b[39m\u001b[38;5;241m.\u001b[39m_mode \u001b[38;5;241m=\u001b[39m mode_code\n\u001b[0;32m     87\u001b[0m \u001b[38;5;28;01melse\u001b[39;00m:\n\u001b[1;32m---> 88\u001b[0m     \u001b[38;5;28;01mraise\u001b[39;00m \u001b[38;5;167;01mTypeError\u001b[39;00m(\u001b[38;5;124m\"\u001b[39m\u001b[38;5;124mfilename must be a str, bytes, file or PathLike object\u001b[39m\u001b[38;5;124m\"\u001b[39m)\n\u001b[0;32m     90\u001b[0m \u001b[38;5;28;01mif\u001b[39;00m \u001b[38;5;28mself\u001b[39m\u001b[38;5;241m.\u001b[39m_mode \u001b[38;5;241m==\u001b[39m _MODE_READ:\n\u001b[0;32m     91\u001b[0m     raw \u001b[38;5;241m=\u001b[39m _compression\u001b[38;5;241m.\u001b[39mDecompressReader(\u001b[38;5;28mself\u001b[39m\u001b[38;5;241m.\u001b[39m_fp,\n\u001b[0;32m     92\u001b[0m         BZ2Decompressor, trailing_error\u001b[38;5;241m=\u001b[39m\u001b[38;5;167;01mOSError\u001b[39;00m)\n",
      "\u001b[1;31mTypeError\u001b[0m: filename must be a str, bytes, file or PathLike object"
     ]
    }
   ],
   "source": [
    "from module import toSunpyMap, getMostRecent, drawSunspots\n",
    "import matplotlib.pyplot as plt\n",
    "\n",
    "directory = 'Z:/data/CLIMSO/2024/data_calibrated'\n",
    "\n",
    "file = getMostRecent(directory, '_l2_')\n",
    "\n",
    "map = toSunpyMap(file)\n",
    "\n",
    "img = drawSunspots(map)\n",
    "\n",
    "plt.figure(figsize=(20,20))\n",
    "\n",
    "plt.subplot(121)\n",
    "plt.imshow(map.data)\n",
    "plt.axis('off')\n",
    "plt.title(map.date);\n",
    "\n",
    "plt.subplot(122)\n",
    "plt.imshow(img)\n",
    "plt.axis('off')\n",
    "plt.title(map.date);"
   ]
  }
 ],
 "metadata": {
  "kernelspec": {
   "display_name": "climso",
   "language": "python",
   "name": "python3"
  },
  "language_info": {
   "codemirror_mode": {
    "name": "ipython",
    "version": 3
   },
   "file_extension": ".py",
   "mimetype": "text/x-python",
   "name": "python",
   "nbconvert_exporter": "python",
   "pygments_lexer": "ipython3",
   "version": "3.12.2"
  }
 },
 "nbformat": 4,
 "nbformat_minor": 2
}
