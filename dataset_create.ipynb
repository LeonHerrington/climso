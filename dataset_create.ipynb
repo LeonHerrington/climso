{
 "cells": [
  {
   "cell_type": "markdown",
   "metadata": {},
   "source": [
    "# Dataset"
   ]
  },
  {
   "cell_type": "code",
   "execution_count": 2,
   "metadata": {},
   "outputs": [],
   "source": [
    "import pandas as pd\n",
    "\n",
    "import os\n",
    "\n",
    "from module import toSunpyMap\n",
    "\n",
    "from astropy.coordinates import SkyCoord\n",
    "import astropy.units as u\n",
    "from sunpy.coordinates import HeliographicStonyhurst\n",
    "\n",
    "import matplotlib.pyplot as plt\n"
   ]
  },
  {
   "cell_type": "code",
   "execution_count": 3,
   "metadata": {},
   "outputs": [],
   "source": [
    "def convert_to_lon_lat(location):\n",
    "    # Latitude\n",
    "    lat_sign = 1 if location[0] == 'N' else -1\n",
    "    latitude = lat_sign * int(location[1:3])\n",
    "    \n",
    "    # Longitude\n",
    "    lon_sign = -1 if location[3] == 'E' else 1\n",
    "    longitude = lon_sign * int(location[4:])\n",
    "    \n",
    "    return longitude, latitude"
   ]
  },
  {
   "cell_type": "code",
   "execution_count": 4,
   "metadata": {},
   "outputs": [],
   "source": [
    "df = pd.read_csv('FlareCatalogue.csv')"
   ]
  },
  {
   "cell_type": "code",
   "execution_count": 5,
   "metadata": {},
   "outputs": [
    {
     "data": {
      "text/plain": [
       "'2023/07/29 16:11'"
      ]
     },
     "execution_count": 5,
     "metadata": {},
     "output_type": "execute_result"
    }
   ],
   "source": [
    "event = df.iloc[16]\n",
    "event['start']"
   ]
  },
  {
   "cell_type": "code",
   "execution_count": 6,
   "metadata": {},
   "outputs": [
    {
     "data": {
      "text/plain": [
       "(8, -11)"
      ]
     },
     "execution_count": 6,
     "metadata": {},
     "output_type": "execute_result"
    }
   ],
   "source": [
    "lon, lat = convert_to_lon_lat(event['AR location'])\n",
    "lon, lat"
   ]
  },
  {
   "cell_type": "code",
   "execution_count": 10,
   "metadata": {},
   "outputs": [
    {
     "data": {
      "text/plain": [
       "['imoa_03933_l2_20230729_15113277_emi1.fts.bz2',\n",
       " 'imoa_03933_l2_20230729_14104102_emi1.fts.bz2',\n",
       " 'imoa_03933_l2_20230729_13103723_emi1.fts.bz2',\n",
       " 'imoa_03933_l2_20230729_12095874_emi1.fts.bz2',\n",
       " 'imoa_03933_l2_20230729_11493017_emi1.fts.bz2',\n",
       " 'imoa_03933_l2_20230729_09483768_emi1.fts.bz2',\n",
       " 'imoa_03933_l2_20230729_09155787_emi1.fts.bz2']"
      ]
     },
     "execution_count": 10,
     "metadata": {},
     "output_type": "execute_result"
    }
   ],
   "source": [
    "import os\n",
    "from datetime import datetime, timedelta\n",
    "import re\n",
    "\n",
    "def getTimeSeriesForEvent(event)\n",
    "\n",
    "    # Define the event date and time\n",
    "    event_datetime_str = event['start']\n",
    "    event_datetime = datetime.strptime(event_datetime_str, '%Y/%m/%d %H:%M')\n",
    "\n",
    "    directory = 'Y:/data/CLIMSO/'+str(event_datetime.year)+'/data_calibrated/'+event_datetime.strftime('%Y-%m-%d')+'/'\n",
    "\n",
    "    # List all files in the directory that match the pattern\n",
    "    files = [file for file in os.listdir(directory) if file.startswith('imoa_03933_l2_')]\n",
    "\n",
    "    # Extract datetime from filename using regex\n",
    "    def extract_datetime_from_filename(filename):\n",
    "        match = re.search(r'_(\\d{8}_\\d{6}\\d{2})_', filename)  # Adjusted regex to match milliseconds\n",
    "        if match:\n",
    "            datetime_str = match.group(1)\n",
    "            try:\n",
    "                return datetime.strptime(datetime_str, '%Y%m%d_%H%M%S%f')\n",
    "            except ValueError as e:\n",
    "                print(f\"Error parsing datetime string: {datetime_str}, error: {e}\")\n",
    "        return None\n",
    "\n",
    "    # Create a list of (filename, datetime) tuples\n",
    "    file_datetimes = [(file, extract_datetime_from_filename(file)) for file in files]\n",
    "\n",
    "    # Filter out any files that did not match the pattern or had parsing issues\n",
    "    file_datetimes = [fd for fd in file_datetimes if fd[1] is not None]\n",
    "\n",
    "    # Sort files by datetime\n",
    "    file_datetimes.sort(key=lambda x: x[1])\n",
    "\n",
    "    # Function to find the closest file to a given time\n",
    "    def find_closest_file(target_time, files):\n",
    "        closest_file = None\n",
    "        min_diff = timedelta.max\n",
    "        for file, file_time in files:\n",
    "            diff = abs(file_time - target_time)\n",
    "            if diff < min_diff:\n",
    "                min_diff = diff\n",
    "                closest_file = (file, file_time)\n",
    "        return closest_file\n",
    "\n",
    "    # Find the files closest to each 1-hour interval before the event datetime\n",
    "    closest_files = []\n",
    "    current_time = event_datetime\n",
    "\n",
    "    for i in range(7):\n",
    "        current_time -= timedelta(hours=1)\n",
    "        closest_file = find_closest_file(current_time, file_datetimes)\n",
    "        if closest_file:\n",
    "            closest_files.append(closest_file)\n",
    "            # Remove the found file to avoid duplicate selections\n",
    "            file_datetimes.remove(closest_file)\n",
    "\n",
    "    # Extract filenames from the tuples\n",
    "    closest_filenames = [fd[0] for fd in closest_files]\n",
    "\n",
    "    # Output the closest filenames\n",
    "    return closest_filenames\n"
   ]
  },
  {
   "cell_type": "code",
   "execution_count": null,
   "metadata": {},
   "outputs": [],
   "source": []
  }
 ],
 "metadata": {
  "kernelspec": {
   "display_name": "climso",
   "language": "python",
   "name": "python3"
  },
  "language_info": {
   "codemirror_mode": {
    "name": "ipython",
    "version": 3
   },
   "file_extension": ".py",
   "mimetype": "text/x-python",
   "name": "python",
   "nbconvert_exporter": "python",
   "pygments_lexer": "ipython3",
   "version": "3.12.2"
  }
 },
 "nbformat": 4,
 "nbformat_minor": 2
}
